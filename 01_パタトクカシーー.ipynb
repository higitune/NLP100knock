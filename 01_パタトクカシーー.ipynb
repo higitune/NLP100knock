{
 "metadata": {
  "name": "",
  "signature": "sha256:0d89ad9e2e5ca13872ef4a13c144e167b87581cf4d7d6f84c1917b3174f2c50d"
 },
 "nbformat": 3,
 "nbformat_minor": 0,
 "worksheets": [
  {
   "cells": [
    {
     "cell_type": "code",
     "collapsed": false,
     "input": [
      "input = u\"\u30d1\u30bf\u30c8\u30af\u30ab\u30b7\u30fc\u30fc\""
     ],
     "language": "python",
     "metadata": {},
     "outputs": [],
     "prompt_number": 6
    },
    {
     "cell_type": "code",
     "collapsed": false,
     "input": [
      "output = input[0]+input[2]+input[4]+input[6]"
     ],
     "language": "python",
     "metadata": {},
     "outputs": [],
     "prompt_number": 7
    },
    {
     "cell_type": "code",
     "collapsed": false,
     "input": [
      "print output"
     ],
     "language": "python",
     "metadata": {},
     "outputs": [
      {
       "output_type": "stream",
       "stream": "stdout",
       "text": [
        "\u30d1\u30c8\u30ab\u30fc\n"
       ]
      }
     ],
     "prompt_number": 8
    },
    {
     "cell_type": "code",
     "collapsed": false,
     "input": [],
     "language": "python",
     "metadata": {},
     "outputs": []
    }
   ],
   "metadata": {}
  }
 ]
}