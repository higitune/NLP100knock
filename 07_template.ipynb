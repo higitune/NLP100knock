{
 "metadata": {
  "name": "",
  "signature": "sha256:6ef9875b2a6b913ff27192a6f4544a6610d5cf376d6458896aa9eef54a97e6af"
 },
 "nbformat": 3,
 "nbformat_minor": 0,
 "worksheets": [
  {
   "cells": [
    {
     "cell_type": "code",
     "collapsed": false,
     "input": [
      "\"x\u6642\u306ey\u306fz\""
     ],
     "language": "python",
     "metadata": {},
     "outputs": [
      {
       "metadata": {},
       "output_type": "pyout",
       "prompt_number": 1,
       "text": [
        "'x\\xe6\\x99\\x82\\xe3\\x81\\xaey\\xe3\\x81\\xafz'"
       ]
      }
     ],
     "prompt_number": 1
    },
    {
     "cell_type": "code",
     "collapsed": false,
     "input": [
      "def gen_from_template(x,y,z):\n",
      "    return str(x).decode('utf-8')+u\"\u6642\u306e\"+str(y).decode('utf-8')+u\"\u306f\"+str(z).decode('utf-8')"
     ],
     "language": "python",
     "metadata": {},
     "outputs": [],
     "prompt_number": 19
    },
    {
     "cell_type": "code",
     "collapsed": false,
     "input": [
      "print gen_from_template(12,\"\u6c17\u6e29\",22.4)"
     ],
     "language": "python",
     "metadata": {},
     "outputs": [
      {
       "output_type": "stream",
       "stream": "stdout",
       "text": [
        "12\u6642\u306e\u6c17\u6e29\u306f22.4\n"
       ]
      }
     ],
     "prompt_number": 21
    },
    {
     "cell_type": "code",
     "collapsed": false,
     "input": [],
     "language": "python",
     "metadata": {},
     "outputs": []
    }
   ],
   "metadata": {}
  }
 ]
}