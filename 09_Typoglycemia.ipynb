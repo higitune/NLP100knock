{
 "metadata": {
  "name": "",
  "signature": "sha256:b7bd864d12bee888c5cee72cfdf4edf2c5fd708a49b8925718c239d892946918"
 },
 "nbformat": 3,
 "nbformat_minor": 0,
 "worksheets": [
  {
   "cells": [
    {
     "cell_type": "code",
     "collapsed": false,
     "input": [
      "import random"
     ],
     "language": "python",
     "metadata": {},
     "outputs": [],
     "prompt_number": 1
    },
    {
     "cell_type": "code",
     "collapsed": false,
     "input": [
      "def shuf_word(word):\n",
      "    if len(word)>4:\n",
      "        cont = list(word[1:-1])\n",
      "        random.shuffle(cont)\n",
      "        return word[0]+\"\".join(cont)+word[-1]\n",
      "    else:\n",
      "        return word"
     ],
     "language": "python",
     "metadata": {},
     "outputs": [],
     "prompt_number": 14
    },
    {
     "cell_type": "code",
     "collapsed": false,
     "input": [
      "shuf_word(\"aiueo\")"
     ],
     "language": "python",
     "metadata": {},
     "outputs": [
      {
       "metadata": {},
       "output_type": "pyout",
       "prompt_number": 16,
       "text": [
        "'aeuio'"
       ]
      }
     ],
     "prompt_number": 16
    },
    {
     "cell_type": "code",
     "collapsed": false,
     "input": [
      "shuf_word(\"aiue\")"
     ],
     "language": "python",
     "metadata": {},
     "outputs": [
      {
       "metadata": {},
       "output_type": "pyout",
       "prompt_number": 18,
       "text": [
        "'aiue'"
       ]
      }
     ],
     "prompt_number": 18
    },
    {
     "cell_type": "code",
     "collapsed": false,
     "input": [
      "for word in \"I couldn't believe that I could actually understand what I was reading : the phenomenal power of the human mind .\".split():\n",
      "    print shuf_word(word)"
     ],
     "language": "python",
     "metadata": {},
     "outputs": [
      {
       "output_type": "stream",
       "stream": "stdout",
       "text": [
        "I\n",
        "cn'loudt\n",
        "blveiee\n",
        "that\n",
        "I\n",
        "cloud\n",
        "aatllucy\n",
        "urntesadnd\n",
        "what\n",
        "I\n",
        "was\n",
        "rdneaig\n",
        ":\n",
        "the\n",
        "pomenenhal\n",
        "poewr\n",
        "of\n",
        "the\n",
        "huamn\n",
        "mind\n",
        ".\n"
       ]
      }
     ],
     "prompt_number": 19
    },
    {
     "cell_type": "code",
     "collapsed": false,
     "input": [],
     "language": "python",
     "metadata": {},
     "outputs": []
    }
   ],
   "metadata": {}
  }
 ]
}