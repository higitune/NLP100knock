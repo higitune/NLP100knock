{
 "metadata": {
  "name": "",
  "signature": "sha256:b5653d0f2f471b68b13de656dde2946f0da4b795d4fccb65be49043820a8f028"
 },
 "nbformat": 3,
 "nbformat_minor": 0,
 "worksheets": [
  {
   "cells": [
    {
     "cell_type": "code",
     "collapsed": false,
     "input": [
      "input = \"Hi He Lied Because Boron Could Not Oxidize Fluorine. New Nations Might Also Sign Peace Security Clause. Arthur King Can.\""
     ],
     "language": "python",
     "metadata": {},
     "outputs": [],
     "prompt_number": 1
    },
    {
     "cell_type": "code",
     "collapsed": false,
     "input": [
      "indexes = [1, 5, 6, 7, 8, 9, 15, 16, 19]"
     ],
     "language": "python",
     "metadata": {},
     "outputs": [],
     "prompt_number": 2
    },
    {
     "cell_type": "code",
     "collapsed": false,
     "input": [
      "output = {}"
     ],
     "language": "python",
     "metadata": {},
     "outputs": [],
     "prompt_number": 3
    },
    {
     "cell_type": "code",
     "collapsed": false,
     "input": [
      "for w in enumerate(input.split()):\n",
      "    if w[0] + 1 in indexes:\n",
      "        output[w[1][0]] = w[0]+1\n",
      "    else:\n",
      "        output[w[1][:2]] = w[0]+1"
     ],
     "language": "python",
     "metadata": {},
     "outputs": [],
     "prompt_number": 4
    },
    {
     "cell_type": "code",
     "collapsed": false,
     "input": [
      "output"
     ],
     "language": "python",
     "metadata": {},
     "outputs": [
      {
       "metadata": {},
       "output_type": "pyout",
       "prompt_number": 5,
       "text": [
        "{'Al': 13,\n",
        " 'Ar': 18,\n",
        " 'B': 5,\n",
        " 'Be': 4,\n",
        " 'C': 6,\n",
        " 'Ca': 20,\n",
        " 'Cl': 17,\n",
        " 'F': 9,\n",
        " 'H': 1,\n",
        " 'He': 2,\n",
        " 'K': 19,\n",
        " 'Li': 3,\n",
        " 'Mi': 12,\n",
        " 'N': 7,\n",
        " 'Na': 11,\n",
        " 'Ne': 10,\n",
        " 'O': 8,\n",
        " 'P': 15,\n",
        " 'S': 16,\n",
        " 'Si': 14}"
       ]
      }
     ],
     "prompt_number": 5
    },
    {
     "cell_type": "code",
     "collapsed": false,
     "input": [],
     "language": "python",
     "metadata": {},
     "outputs": []
    }
   ],
   "metadata": {}
  }
 ]
}