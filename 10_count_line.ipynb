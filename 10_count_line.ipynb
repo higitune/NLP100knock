{
 "metadata": {
  "name": "",
  "signature": "sha256:c24c04a69eaa280f1a237eea997a6d3a19303c26dc459d29a6eeb8bf66fac35b"
 },
 "nbformat": 3,
 "nbformat_minor": 0,
 "worksheets": [
  {
   "cells": [
    {
     "cell_type": "code",
     "collapsed": false,
     "input": [
      "import csv"
     ],
     "language": "python",
     "metadata": {},
     "outputs": [],
     "prompt_number": 1
    },
    {
     "cell_type": "code",
     "collapsed": false,
     "input": [
      "for line in csv.reader(open(\"./data/hightemp.txt\"),delimiter='\\t'):\n",
      "    print line"
     ],
     "language": "python",
     "metadata": {},
     "outputs": [
      {
       "output_type": "stream",
       "stream": "stdout",
       "text": [
        "['\\xe9\\xab\\x98\\xe7\\x9f\\xa5\\xe7\\x9c\\x8c', '\\xe6\\xb1\\x9f\\xe5\\xb7\\x9d\\xe5\\xb4\\x8e', '41', '2013-08-12']\n",
        "['\\xe5\\x9f\\xbc\\xe7\\x8e\\x89\\xe7\\x9c\\x8c', '\\xe7\\x86\\x8a\\xe8\\xb0\\xb7', '40.9', '2007-08-16']\n",
        "['\\xe5\\xb2\\x90\\xe9\\x98\\x9c\\xe7\\x9c\\x8c', '\\xe5\\xa4\\x9a\\xe6\\xb2\\xbb\\xe8\\xa6\\x8b', '40.9', '2007-08-16']\n",
        "['\\xe5\\xb1\\xb1\\xe5\\xbd\\xa2\\xe7\\x9c\\x8c', '\\xe5\\xb1\\xb1\\xe5\\xbd\\xa2', '40.8', '1933-07-25']\n",
        "['\\xe5\\xb1\\xb1\\xe6\\xa2\\xa8\\xe7\\x9c\\x8c', '\\xe7\\x94\\xb2\\xe5\\xba\\x9c', '40.7', '2013-08-10']\n",
        "['\\xe5\\x92\\x8c\\xe6\\xad\\x8c\\xe5\\xb1\\xb1\\xe7\\x9c\\x8c', '\\xe3\\x81\\x8b\\xe3\\x81\\xa4\\xe3\\x82\\x89\\xe3\\x81\\x8e', '40.6', '1994-08-08']\n",
        "['\\xe9\\x9d\\x99\\xe5\\xb2\\xa1\\xe7\\x9c\\x8c', '\\xe5\\xa4\\xa9\\xe7\\xab\\x9c', '40.6', '1994-08-04']\n",
        "['\\xe5\\xb1\\xb1\\xe6\\xa2\\xa8\\xe7\\x9c\\x8c', '\\xe5\\x8b\\x9d\\xe6\\xb2\\xbc', '40.5', '2013-08-10']\n",
        "['\\xe5\\x9f\\xbc\\xe7\\x8e\\x89\\xe7\\x9c\\x8c', '\\xe8\\xb6\\x8a\\xe8\\xb0\\xb7', '40.4', '2007-08-16']\n",
        "['\\xe7\\xbe\\xa4\\xe9\\xa6\\xac\\xe7\\x9c\\x8c', '\\xe9\\xa4\\xa8\\xe6\\x9e\\x97', '40.3', '2007-08-16']\n",
        "['\\xe7\\xbe\\xa4\\xe9\\xa6\\xac\\xe7\\x9c\\x8c', '\\xe4\\xb8\\x8a\\xe9\\x87\\x8c\\xe8\\xa6\\x8b', '40.3', '1998-07-04']\n",
        "['\\xe6\\x84\\x9b\\xe7\\x9f\\xa5\\xe7\\x9c\\x8c', '\\xe6\\x84\\x9b\\xe8\\xa5\\xbf', '40.3', '1994-08-05']\n",
        "['\\xe5\\x8d\\x83\\xe8\\x91\\x89\\xe7\\x9c\\x8c', '\\xe7\\x89\\x9b\\xe4\\xb9\\x85', '40.2', '2004-07-20']\n",
        "['\\xe9\\x9d\\x99\\xe5\\xb2\\xa1\\xe7\\x9c\\x8c', '\\xe4\\xbd\\x90\\xe4\\xb9\\x85\\xe9\\x96\\x93', '40.2', '2001-07-24']\n",
        "['\\xe6\\x84\\x9b\\xe5\\xaa\\x9b\\xe7\\x9c\\x8c', '\\xe5\\xae\\x87\\xe5\\x92\\x8c\\xe5\\xb3\\xb6', '40.2', '1927-07-22']\n",
        "['\\xe5\\xb1\\xb1\\xe5\\xbd\\xa2\\xe7\\x9c\\x8c', '\\xe9\\x85\\x92\\xe7\\x94\\xb0', '40.1', '1978-08-03']\n",
        "['\\xe5\\xb2\\x90\\xe9\\x98\\x9c\\xe7\\x9c\\x8c', '\\xe7\\xbe\\x8e\\xe6\\xbf\\x83', '40', '2007-08-16']\n",
        "['\\xe7\\xbe\\xa4\\xe9\\xa6\\xac\\xe7\\x9c\\x8c', '\\xe5\\x89\\x8d\\xe6\\xa9\\x8b', '40', '2001-07-24']\n",
        "['\\xe5\\x8d\\x83\\xe8\\x91\\x89\\xe7\\x9c\\x8c', '\\xe8\\x8c\\x82\\xe5\\x8e\\x9f', '39.9', '2013-08-11']\n",
        "['\\xe5\\x9f\\xbc\\xe7\\x8e\\x89\\xe7\\x9c\\x8c', '\\xe9\\xb3\\xa9\\xe5\\xb1\\xb1', '39.9', '1997-07-05']\n",
        "['\\xe5\\xa4\\xa7\\xe9\\x98\\xaa\\xe5\\xba\\x9c', '\\xe8\\xb1\\x8a\\xe4\\xb8\\xad', '39.9', '1994-08-08']\n",
        "['\\xe5\\xb1\\xb1\\xe6\\xa2\\xa8\\xe7\\x9c\\x8c', '\\xe5\\xa4\\xa7\\xe6\\x9c\\x88', '39.9', '1990-07-19']\n",
        "['\\xe5\\xb1\\xb1\\xe5\\xbd\\xa2\\xe7\\x9c\\x8c', '\\xe9\\xb6\\xb4\\xe5\\xb2\\xa1', '39.9', '1978-08-03']\n",
        "['\\xe6\\x84\\x9b\\xe7\\x9f\\xa5\\xe7\\x9c\\x8c', '\\xe5\\x90\\x8d\\xe5\\x8f\\xa4\\xe5\\xb1\\x8b', '39.9', '1942-08-02']\n"
       ]
      }
     ],
     "prompt_number": 2
    },
    {
     "cell_type": "code",
     "collapsed": false,
     "input": [],
     "language": "python",
     "metadata": {},
     "outputs": []
    }
   ],
   "metadata": {}
  }
 ]
}