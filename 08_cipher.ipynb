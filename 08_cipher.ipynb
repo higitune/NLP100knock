{
 "metadata": {
  "name": "",
  "signature": "sha256:bca57375dc65b0d02e534eb04bc50e23892d0d3412e5b9959d6227a001b83c08"
 },
 "nbformat": 3,
 "nbformat_minor": 0,
 "worksheets": [
  {
   "cells": [
    {
     "cell_type": "code",
     "collapsed": false,
     "input": [
      "def cipher(chr_list):\n",
      "    ret = []\n",
      "    for c in chr_list:\n",
      "        if c in \"abcdefghijklmnopqrstuvwxyz\":\n",
      "            ret.append(219-ord(c))\n",
      "        else:\n",
      "            ret.append(c)\n",
      "    return ret"
     ],
     "language": "python",
     "metadata": {},
     "outputs": [],
     "prompt_number": 10
    },
    {
     "cell_type": "code",
     "collapsed": false,
     "input": [
      "cipher(\"abcdefghijklmn opqr!\")"
     ],
     "language": "python",
     "metadata": {},
     "outputs": [
      {
       "metadata": {},
       "output_type": "pyout",
       "prompt_number": 11,
       "text": [
        "[122,\n",
        " 121,\n",
        " 120,\n",
        " 119,\n",
        " 118,\n",
        " 117,\n",
        " 116,\n",
        " 115,\n",
        " 114,\n",
        " 113,\n",
        " 112,\n",
        " 111,\n",
        " 110,\n",
        " 109,\n",
        " ' ',\n",
        " 108,\n",
        " 107,\n",
        " 106,\n",
        " 105,\n",
        " '!']"
       ]
      }
     ],
     "prompt_number": 11
    },
    {
     "cell_type": "code",
     "collapsed": false,
     "input": [
      "def decode(code_list):\n",
      "    ret = []\n",
      "    for code in code_list:\n",
      "        if type(code) == int:\n",
      "            ret.append(chr(219-code))\n",
      "        else:\n",
      "            ret.append(code)\n",
      "    return ret"
     ],
     "language": "python",
     "metadata": {},
     "outputs": [],
     "prompt_number": 23
    },
    {
     "cell_type": "code",
     "collapsed": false,
     "input": [
      "decode(cipher(\"abcdefghijklmn opqr!\"))"
     ],
     "language": "python",
     "metadata": {},
     "outputs": [
      {
       "metadata": {},
       "output_type": "pyout",
       "prompt_number": 24,
       "text": [
        "['a',\n",
        " 'b',\n",
        " 'c',\n",
        " 'd',\n",
        " 'e',\n",
        " 'f',\n",
        " 'g',\n",
        " 'h',\n",
        " 'i',\n",
        " 'j',\n",
        " 'k',\n",
        " 'l',\n",
        " 'm',\n",
        " 'n',\n",
        " ' ',\n",
        " 'o',\n",
        " 'p',\n",
        " 'q',\n",
        " 'r',\n",
        " '!']"
       ]
      }
     ],
     "prompt_number": 24
    },
    {
     "cell_type": "code",
     "collapsed": false,
     "input": [
      "chr(ord('a'))"
     ],
     "language": "python",
     "metadata": {},
     "outputs": [
      {
       "metadata": {},
       "output_type": "pyout",
       "prompt_number": 22,
       "text": [
        "'a'"
       ]
      }
     ],
     "prompt_number": 22
    },
    {
     "cell_type": "code",
     "collapsed": false,
     "input": [],
     "language": "python",
     "metadata": {},
     "outputs": []
    }
   ],
   "metadata": {}
  }
 ]
}