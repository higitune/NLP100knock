{
 "metadata": {
  "name": "",
  "signature": "sha256:538d8a41c3906cc8283c28ea2000fa19d549ec3dccaf5748981bc39df7c39172"
 },
 "nbformat": 3,
 "nbformat_minor": 0,
 "worksheets": [
  {
   "cells": [
    {
     "cell_type": "code",
     "collapsed": false,
     "input": [
      "\"\"\"\n",
      "\u30d1\u30c8\u30ab\u30fc\n",
      "\u30bf\u30af\u30b7\u30fc\n",
      "\u30d1\u30bf\u30c8\u30af\u30ab\u30b7\u30fc\u30fc\n",
      "\"\"\"\n"
     ],
     "language": "python",
     "metadata": {},
     "outputs": [
      {
       "metadata": {},
       "output_type": "pyout",
       "prompt_number": 1,
       "text": [
        "'\\n\\xe3\\x83\\x91\\xe3\\x83\\x88\\xe3\\x82\\xab\\xe3\\x83\\xbc\\n\\xe3\\x82\\xbf\\xe3\\x82\\xaf\\xe3\\x82\\xb7\\xe3\\x83\\xbc\\n\\xe3\\x83\\x91\\xe3\\x82\\xbf\\xe3\\x83\\x88\\xe3\\x82\\xaf\\xe3\\x82\\xab\\xe3\\x82\\xb7\\xe3\\x83\\xbc\\xe3\\x83\\xbc\\n'"
       ]
      }
     ],
     "prompt_number": 1
    },
    {
     "cell_type": "code",
     "collapsed": false,
     "input": [
      "input0 = u\"\u30d1\u30c8\u30ab\u30fc\"\n",
      "input1 = u\"\u30bf\u30af\u30b7\u30fc\""
     ],
     "language": "python",
     "metadata": {},
     "outputs": [],
     "prompt_number": 2
    },
    {
     "cell_type": "code",
     "collapsed": false,
     "input": [
      "output=\"\".join([ \"\".join(z) for z in zip(input0,input1)])"
     ],
     "language": "python",
     "metadata": {},
     "outputs": [],
     "prompt_number": 4
    },
    {
     "cell_type": "code",
     "collapsed": false,
     "input": [
      "print output"
     ],
     "language": "python",
     "metadata": {},
     "outputs": [
      {
       "output_type": "stream",
       "stream": "stdout",
       "text": [
        "\u30d1\u30bf\u30c8\u30af\u30ab\u30b7\u30fc\u30fc\n"
       ]
      }
     ],
     "prompt_number": 5
    },
    {
     "cell_type": "code",
     "collapsed": false,
     "input": [],
     "language": "python",
     "metadata": {},
     "outputs": []
    }
   ],
   "metadata": {}
  }
 ]
}